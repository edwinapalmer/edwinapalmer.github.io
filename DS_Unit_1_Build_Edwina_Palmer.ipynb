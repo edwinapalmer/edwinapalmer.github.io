{
  "nbformat": 4,
  "nbformat_minor": 0,
  "metadata": {
    "colab": {
      "name": "DS Unit 1 Build_Edwina Palmer.ipynb",
      "provenance": [],
      "collapsed_sections": [],
      "authorship_tag": "ABX9TyOO9eLO6/KkiLqmgUnJZoJI",
      "include_colab_link": true
    },
    "kernelspec": {
      "name": "python3",
      "display_name": "Python 3"
    }
  },
  "cells": [
    {
      "cell_type": "markdown",
      "metadata": {
        "id": "view-in-github",
        "colab_type": "text"
      },
      "source": [
        "<a href=\"https://colab.research.google.com/github/edwinapalmer/edwinapalmer.github.io/blob/master/DS_Unit_1_Build_Edwina_Palmer.ipynb\" target=\"_parent\"><img src=\"https://colab.research.google.com/assets/colab-badge.svg\" alt=\"Open In Colab\"/></a>"
      ]
    },
    {
      "cell_type": "code",
      "metadata": {
        "id": "VcthG06arIDK",
        "colab_type": "code",
        "outputId": "fa2798f8-d304-4f8d-ff81-b24ee17d1884",
        "colab": {
          "base_uri": "https://localhost:8080/",
          "height": 52
        }
      },
      "source": [
        "# To import files\n",
        "\n",
        "import pandas as pd\n",
        "import numpy as np\n",
        "import matplotlib.pyplot as plt\n",
        "import seaborn as sns \n",
        "from datetime import datetime\n",
        "from sklearn.preprocessing import LabelEncoder\n",
        "%matplotlib inline\n",
        "sns.set_style('whitegrid')"
      ],
      "execution_count": 1,
      "outputs": [
        {
          "output_type": "stream",
          "text": [
            "/usr/local/lib/python3.6/dist-packages/statsmodels/tools/_testing.py:19: FutureWarning: pandas.util.testing is deprecated. Use the functions in the public API at pandas.testing instead.\n",
            "  import pandas.util.testing as tm\n"
          ],
          "name": "stderr"
        }
      ]
    },
    {
      "cell_type": "code",
      "metadata": {
        "id": "-E1SEYJ_rVhb",
        "colab_type": "code",
        "colab": {}
      },
      "source": [
        "absenteeism_data_url = 'http://archive.ics.uci.edu/ml/machine-learning-databases/00445/Absenteeism_at_work_AAA.zip'"
      ],
      "execution_count": 0,
      "outputs": []
    },
    {
      "cell_type": "code",
      "metadata": {
        "id": "Rt5tX5--DIIv",
        "colab_type": "code",
        "outputId": "2e887413-9e04-4186-bbf3-47b573e0a9b2",
        "colab": {
          "base_uri": "https://localhost:8080/",
          "height": 212
        }
      },
      "source": [
        "!wget 'http://archive.ics.uci.edu/ml/machine-learning-databases/00445/Absenteeism_at_work_AAA.zip'"
      ],
      "execution_count": 3,
      "outputs": [
        {
          "output_type": "stream",
          "text": [
            "--2020-05-01 17:46:02--  http://archive.ics.uci.edu/ml/machine-learning-databases/00445/Absenteeism_at_work_AAA.zip\n",
            "Resolving archive.ics.uci.edu (archive.ics.uci.edu)... 128.195.10.252\n",
            "Connecting to archive.ics.uci.edu (archive.ics.uci.edu)|128.195.10.252|:80... connected.\n",
            "HTTP request sent, awaiting response... 200 OK\n",
            "Length: 66136 (65K) [application/x-httpd-php]\n",
            "Saving to: ‘Absenteeism_at_work_AAA.zip’\n",
            "\n",
            "\r          Absenteei   0%[                    ]       0  --.-KB/s               \r         Absenteeis  79%[==============>     ]  51.46K   204KB/s               \rAbsenteeism_at_work 100%[===================>]  64.59K   256KB/s    in 0.3s    \n",
            "\n",
            "2020-05-01 17:46:02 (256 KB/s) - ‘Absenteeism_at_work_AAA.zip’ saved [66136/66136]\n",
            "\n"
          ],
          "name": "stdout"
        }
      ]
    },
    {
      "cell_type": "code",
      "metadata": {
        "id": "6Hrk5ZheDPX3",
        "colab_type": "code",
        "outputId": "4147355d-cf1d-4ded-8539-c993ea0e411b",
        "colab": {
          "base_uri": "https://localhost:8080/",
          "height": 123
        }
      },
      "source": [
        "!unzip Absenteeism_at_work_AAA.zip"
      ],
      "execution_count": 4,
      "outputs": [
        {
          "output_type": "stream",
          "text": [
            "Archive:  Absenteeism_at_work_AAA.zip\n",
            "  inflating: Absenteeism_at_work.arff  \n",
            "  inflating: Absenteeism_at_work.csv  \n",
            "  inflating: Absenteeism_at_work.xls  \n",
            "  inflating: Attribute Information.docx  \n",
            "  inflating: UCI_ABS_TEXT.docx       \n"
          ],
          "name": "stdout"
        }
      ]
    },
    {
      "cell_type": "markdown",
      "metadata": {
        "id": "PFK7bxWzXlKX",
        "colab_type": "text"
      },
      "source": [
        "### My question for this project is which factors causes absenteeism in the workplace, how does it relate to the present day situation dealing with COVID-19, and which age group has the highest rate of absenteeism."
      ]
    },
    {
      "cell_type": "code",
      "metadata": {
        "id": "AK6Ct3wdDU26",
        "colab_type": "code",
        "outputId": "6626261f-e17a-4ed4-bfa0-fd4b7a8b8c3d",
        "colab": {
          "base_uri": "https://localhost:8080/",
          "height": 232
        }
      },
      "source": [
        "# Load the absenteeism dataset from its URL:\n",
        "import pandas as pd\n",
        "# Read in the CSV\n",
        "\n",
        "absent = pd.read_csv('Absenteeism_at_work.csv', index_col=None, na_values=['NA'],sep=';')\n",
        "\n",
        "print(absent.shape)\n",
        "absent.head()"
      ],
      "execution_count": 5,
      "outputs": [
        {
          "output_type": "stream",
          "text": [
            "(740, 21)\n"
          ],
          "name": "stdout"
        },
        {
          "output_type": "execute_result",
          "data": {
            "text/html": [
              "<div>\n",
              "<style scoped>\n",
              "    .dataframe tbody tr th:only-of-type {\n",
              "        vertical-align: middle;\n",
              "    }\n",
              "\n",
              "    .dataframe tbody tr th {\n",
              "        vertical-align: top;\n",
              "    }\n",
              "\n",
              "    .dataframe thead th {\n",
              "        text-align: right;\n",
              "    }\n",
              "</style>\n",
              "<table border=\"1\" class=\"dataframe\">\n",
              "  <thead>\n",
              "    <tr style=\"text-align: right;\">\n",
              "      <th></th>\n",
              "      <th>ID</th>\n",
              "      <th>Reason for absence</th>\n",
              "      <th>Month of absence</th>\n",
              "      <th>Day of the week</th>\n",
              "      <th>Seasons</th>\n",
              "      <th>Transportation expense</th>\n",
              "      <th>Distance from Residence to Work</th>\n",
              "      <th>Service time</th>\n",
              "      <th>Age</th>\n",
              "      <th>Work load Average/day</th>\n",
              "      <th>Hit target</th>\n",
              "      <th>Disciplinary failure</th>\n",
              "      <th>Education</th>\n",
              "      <th>Son</th>\n",
              "      <th>Social drinker</th>\n",
              "      <th>Social smoker</th>\n",
              "      <th>Pet</th>\n",
              "      <th>Weight</th>\n",
              "      <th>Height</th>\n",
              "      <th>Body mass index</th>\n",
              "      <th>Absenteeism time in hours</th>\n",
              "    </tr>\n",
              "  </thead>\n",
              "  <tbody>\n",
              "    <tr>\n",
              "      <th>0</th>\n",
              "      <td>11</td>\n",
              "      <td>26</td>\n",
              "      <td>7</td>\n",
              "      <td>3</td>\n",
              "      <td>1</td>\n",
              "      <td>289</td>\n",
              "      <td>36</td>\n",
              "      <td>13</td>\n",
              "      <td>33</td>\n",
              "      <td>239.554</td>\n",
              "      <td>97</td>\n",
              "      <td>0</td>\n",
              "      <td>1</td>\n",
              "      <td>2</td>\n",
              "      <td>1</td>\n",
              "      <td>0</td>\n",
              "      <td>1</td>\n",
              "      <td>90</td>\n",
              "      <td>172</td>\n",
              "      <td>30</td>\n",
              "      <td>4</td>\n",
              "    </tr>\n",
              "    <tr>\n",
              "      <th>1</th>\n",
              "      <td>36</td>\n",
              "      <td>0</td>\n",
              "      <td>7</td>\n",
              "      <td>3</td>\n",
              "      <td>1</td>\n",
              "      <td>118</td>\n",
              "      <td>13</td>\n",
              "      <td>18</td>\n",
              "      <td>50</td>\n",
              "      <td>239.554</td>\n",
              "      <td>97</td>\n",
              "      <td>1</td>\n",
              "      <td>1</td>\n",
              "      <td>1</td>\n",
              "      <td>1</td>\n",
              "      <td>0</td>\n",
              "      <td>0</td>\n",
              "      <td>98</td>\n",
              "      <td>178</td>\n",
              "      <td>31</td>\n",
              "      <td>0</td>\n",
              "    </tr>\n",
              "    <tr>\n",
              "      <th>2</th>\n",
              "      <td>3</td>\n",
              "      <td>23</td>\n",
              "      <td>7</td>\n",
              "      <td>4</td>\n",
              "      <td>1</td>\n",
              "      <td>179</td>\n",
              "      <td>51</td>\n",
              "      <td>18</td>\n",
              "      <td>38</td>\n",
              "      <td>239.554</td>\n",
              "      <td>97</td>\n",
              "      <td>0</td>\n",
              "      <td>1</td>\n",
              "      <td>0</td>\n",
              "      <td>1</td>\n",
              "      <td>0</td>\n",
              "      <td>0</td>\n",
              "      <td>89</td>\n",
              "      <td>170</td>\n",
              "      <td>31</td>\n",
              "      <td>2</td>\n",
              "    </tr>\n",
              "    <tr>\n",
              "      <th>3</th>\n",
              "      <td>7</td>\n",
              "      <td>7</td>\n",
              "      <td>7</td>\n",
              "      <td>5</td>\n",
              "      <td>1</td>\n",
              "      <td>279</td>\n",
              "      <td>5</td>\n",
              "      <td>14</td>\n",
              "      <td>39</td>\n",
              "      <td>239.554</td>\n",
              "      <td>97</td>\n",
              "      <td>0</td>\n",
              "      <td>1</td>\n",
              "      <td>2</td>\n",
              "      <td>1</td>\n",
              "      <td>1</td>\n",
              "      <td>0</td>\n",
              "      <td>68</td>\n",
              "      <td>168</td>\n",
              "      <td>24</td>\n",
              "      <td>4</td>\n",
              "    </tr>\n",
              "    <tr>\n",
              "      <th>4</th>\n",
              "      <td>11</td>\n",
              "      <td>23</td>\n",
              "      <td>7</td>\n",
              "      <td>5</td>\n",
              "      <td>1</td>\n",
              "      <td>289</td>\n",
              "      <td>36</td>\n",
              "      <td>13</td>\n",
              "      <td>33</td>\n",
              "      <td>239.554</td>\n",
              "      <td>97</td>\n",
              "      <td>0</td>\n",
              "      <td>1</td>\n",
              "      <td>2</td>\n",
              "      <td>1</td>\n",
              "      <td>0</td>\n",
              "      <td>1</td>\n",
              "      <td>90</td>\n",
              "      <td>172</td>\n",
              "      <td>30</td>\n",
              "      <td>2</td>\n",
              "    </tr>\n",
              "  </tbody>\n",
              "</table>\n",
              "</div>"
            ],
            "text/plain": [
              "   ID  Reason for absence  ...  Body mass index  Absenteeism time in hours\n",
              "0  11                  26  ...               30                          4\n",
              "1  36                   0  ...               31                          0\n",
              "2   3                  23  ...               31                          2\n",
              "3   7                   7  ...               24                          4\n",
              "4  11                  23  ...               30                          2\n",
              "\n",
              "[5 rows x 21 columns]"
            ]
          },
          "metadata": {
            "tags": []
          },
          "execution_count": 5
        }
      ]
    },
    {
      "cell_type": "code",
      "metadata": {
        "id": "OZMDbSJK1Tpf",
        "colab_type": "code",
        "outputId": "6686f9b6-d508-424d-c533-6ebb8164fadc",
        "colab": {
          "base_uri": "https://localhost:8080/",
          "height": 407
        }
      },
      "source": [
        "# To clean the data \n",
        "\n",
        "# Check for missing values\n",
        "\n",
        "absent.isnull().sum()"
      ],
      "execution_count": 6,
      "outputs": [
        {
          "output_type": "execute_result",
          "data": {
            "text/plain": [
              "ID                                 0\n",
              "Reason for absence                 0\n",
              "Month of absence                   0\n",
              "Day of the week                    0\n",
              "Seasons                            0\n",
              "Transportation expense             0\n",
              "Distance from Residence to Work    0\n",
              "Service time                       0\n",
              "Age                                0\n",
              "Work load Average/day              0\n",
              "Hit target                         0\n",
              "Disciplinary failure               0\n",
              "Education                          0\n",
              "Son                                0\n",
              "Social drinker                     0\n",
              "Social smoker                      0\n",
              "Pet                                0\n",
              "Weight                             0\n",
              "Height                             0\n",
              "Body mass index                    0\n",
              "Absenteeism time in hours          0\n",
              "dtype: int64"
            ]
          },
          "metadata": {
            "tags": []
          },
          "execution_count": 6
        }
      ]
    },
    {
      "cell_type": "code",
      "metadata": {
        "id": "Fy1fp2GVsmxd",
        "colab_type": "code",
        "colab": {}
      },
      "source": [
        "# to strip / from work load average/day\n",
        "\n",
        "absent.columns = absent.columns.str.replace('/', ' per ').str.strip()"
      ],
      "execution_count": 0,
      "outputs": []
    },
    {
      "cell_type": "code",
      "metadata": {
        "id": "wBD3yvX83IQa",
        "colab_type": "code",
        "outputId": "fb0419bc-0ea5-4c0e-d04f-1f1d12c0ce78",
        "colab": {
          "base_uri": "https://localhost:8080/",
          "height": 407
        }
      },
      "source": [
        "# To get data types\n",
        "\n",
        "print(absent.dtypes)"
      ],
      "execution_count": 8,
      "outputs": [
        {
          "output_type": "stream",
          "text": [
            "ID                                   int64\n",
            "Reason for absence                   int64\n",
            "Month of absence                     int64\n",
            "Day of the week                      int64\n",
            "Seasons                              int64\n",
            "Transportation expense               int64\n",
            "Distance from Residence to Work      int64\n",
            "Service time                         int64\n",
            "Age                                  int64\n",
            "Work load Average per day          float64\n",
            "Hit target                           int64\n",
            "Disciplinary failure                 int64\n",
            "Education                            int64\n",
            "Son                                  int64\n",
            "Social drinker                       int64\n",
            "Social smoker                        int64\n",
            "Pet                                  int64\n",
            "Weight                               int64\n",
            "Height                               int64\n",
            "Body mass index                      int64\n",
            "Absenteeism time in hours            int64\n",
            "dtype: object\n"
          ],
          "name": "stdout"
        }
      ]
    },
    {
      "cell_type": "code",
      "metadata": {
        "id": "aMOhz4FeC94W",
        "colab_type": "code",
        "outputId": "cc738ca2-1c61-4889-f189-5c03b080c737",
        "colab": {
          "base_uri": "https://localhost:8080/",
          "height": 337
        }
      },
      "source": [
        "# To get the stats of the data\n",
        "absent.describe()"
      ],
      "execution_count": 9,
      "outputs": [
        {
          "output_type": "execute_result",
          "data": {
            "text/html": [
              "<div>\n",
              "<style scoped>\n",
              "    .dataframe tbody tr th:only-of-type {\n",
              "        vertical-align: middle;\n",
              "    }\n",
              "\n",
              "    .dataframe tbody tr th {\n",
              "        vertical-align: top;\n",
              "    }\n",
              "\n",
              "    .dataframe thead th {\n",
              "        text-align: right;\n",
              "    }\n",
              "</style>\n",
              "<table border=\"1\" class=\"dataframe\">\n",
              "  <thead>\n",
              "    <tr style=\"text-align: right;\">\n",
              "      <th></th>\n",
              "      <th>ID</th>\n",
              "      <th>Reason for absence</th>\n",
              "      <th>Month of absence</th>\n",
              "      <th>Day of the week</th>\n",
              "      <th>Seasons</th>\n",
              "      <th>Transportation expense</th>\n",
              "      <th>Distance from Residence to Work</th>\n",
              "      <th>Service time</th>\n",
              "      <th>Age</th>\n",
              "      <th>Work load Average per day</th>\n",
              "      <th>Hit target</th>\n",
              "      <th>Disciplinary failure</th>\n",
              "      <th>Education</th>\n",
              "      <th>Son</th>\n",
              "      <th>Social drinker</th>\n",
              "      <th>Social smoker</th>\n",
              "      <th>Pet</th>\n",
              "      <th>Weight</th>\n",
              "      <th>Height</th>\n",
              "      <th>Body mass index</th>\n",
              "      <th>Absenteeism time in hours</th>\n",
              "    </tr>\n",
              "  </thead>\n",
              "  <tbody>\n",
              "    <tr>\n",
              "      <th>count</th>\n",
              "      <td>740.000000</td>\n",
              "      <td>740.000000</td>\n",
              "      <td>740.000000</td>\n",
              "      <td>740.000000</td>\n",
              "      <td>740.000000</td>\n",
              "      <td>740.000000</td>\n",
              "      <td>740.000000</td>\n",
              "      <td>740.000000</td>\n",
              "      <td>740.000000</td>\n",
              "      <td>740.000000</td>\n",
              "      <td>740.000000</td>\n",
              "      <td>740.000000</td>\n",
              "      <td>740.000000</td>\n",
              "      <td>740.000000</td>\n",
              "      <td>740.000000</td>\n",
              "      <td>740.000000</td>\n",
              "      <td>740.000000</td>\n",
              "      <td>740.000000</td>\n",
              "      <td>740.000000</td>\n",
              "      <td>740.000000</td>\n",
              "      <td>740.000000</td>\n",
              "    </tr>\n",
              "    <tr>\n",
              "      <th>mean</th>\n",
              "      <td>18.017568</td>\n",
              "      <td>19.216216</td>\n",
              "      <td>6.324324</td>\n",
              "      <td>3.914865</td>\n",
              "      <td>2.544595</td>\n",
              "      <td>221.329730</td>\n",
              "      <td>29.631081</td>\n",
              "      <td>12.554054</td>\n",
              "      <td>36.450000</td>\n",
              "      <td>271.490235</td>\n",
              "      <td>94.587838</td>\n",
              "      <td>0.054054</td>\n",
              "      <td>1.291892</td>\n",
              "      <td>1.018919</td>\n",
              "      <td>0.567568</td>\n",
              "      <td>0.072973</td>\n",
              "      <td>0.745946</td>\n",
              "      <td>79.035135</td>\n",
              "      <td>172.114865</td>\n",
              "      <td>26.677027</td>\n",
              "      <td>6.924324</td>\n",
              "    </tr>\n",
              "    <tr>\n",
              "      <th>std</th>\n",
              "      <td>11.021247</td>\n",
              "      <td>8.433406</td>\n",
              "      <td>3.436287</td>\n",
              "      <td>1.421675</td>\n",
              "      <td>1.111831</td>\n",
              "      <td>66.952223</td>\n",
              "      <td>14.836788</td>\n",
              "      <td>4.384873</td>\n",
              "      <td>6.478772</td>\n",
              "      <td>39.058116</td>\n",
              "      <td>3.779313</td>\n",
              "      <td>0.226277</td>\n",
              "      <td>0.673238</td>\n",
              "      <td>1.098489</td>\n",
              "      <td>0.495749</td>\n",
              "      <td>0.260268</td>\n",
              "      <td>1.318258</td>\n",
              "      <td>12.883211</td>\n",
              "      <td>6.034995</td>\n",
              "      <td>4.285452</td>\n",
              "      <td>13.330998</td>\n",
              "    </tr>\n",
              "    <tr>\n",
              "      <th>min</th>\n",
              "      <td>1.000000</td>\n",
              "      <td>0.000000</td>\n",
              "      <td>0.000000</td>\n",
              "      <td>2.000000</td>\n",
              "      <td>1.000000</td>\n",
              "      <td>118.000000</td>\n",
              "      <td>5.000000</td>\n",
              "      <td>1.000000</td>\n",
              "      <td>27.000000</td>\n",
              "      <td>205.917000</td>\n",
              "      <td>81.000000</td>\n",
              "      <td>0.000000</td>\n",
              "      <td>1.000000</td>\n",
              "      <td>0.000000</td>\n",
              "      <td>0.000000</td>\n",
              "      <td>0.000000</td>\n",
              "      <td>0.000000</td>\n",
              "      <td>56.000000</td>\n",
              "      <td>163.000000</td>\n",
              "      <td>19.000000</td>\n",
              "      <td>0.000000</td>\n",
              "    </tr>\n",
              "    <tr>\n",
              "      <th>25%</th>\n",
              "      <td>9.000000</td>\n",
              "      <td>13.000000</td>\n",
              "      <td>3.000000</td>\n",
              "      <td>3.000000</td>\n",
              "      <td>2.000000</td>\n",
              "      <td>179.000000</td>\n",
              "      <td>16.000000</td>\n",
              "      <td>9.000000</td>\n",
              "      <td>31.000000</td>\n",
              "      <td>244.387000</td>\n",
              "      <td>93.000000</td>\n",
              "      <td>0.000000</td>\n",
              "      <td>1.000000</td>\n",
              "      <td>0.000000</td>\n",
              "      <td>0.000000</td>\n",
              "      <td>0.000000</td>\n",
              "      <td>0.000000</td>\n",
              "      <td>69.000000</td>\n",
              "      <td>169.000000</td>\n",
              "      <td>24.000000</td>\n",
              "      <td>2.000000</td>\n",
              "    </tr>\n",
              "    <tr>\n",
              "      <th>50%</th>\n",
              "      <td>18.000000</td>\n",
              "      <td>23.000000</td>\n",
              "      <td>6.000000</td>\n",
              "      <td>4.000000</td>\n",
              "      <td>3.000000</td>\n",
              "      <td>225.000000</td>\n",
              "      <td>26.000000</td>\n",
              "      <td>13.000000</td>\n",
              "      <td>37.000000</td>\n",
              "      <td>264.249000</td>\n",
              "      <td>95.000000</td>\n",
              "      <td>0.000000</td>\n",
              "      <td>1.000000</td>\n",
              "      <td>1.000000</td>\n",
              "      <td>1.000000</td>\n",
              "      <td>0.000000</td>\n",
              "      <td>0.000000</td>\n",
              "      <td>83.000000</td>\n",
              "      <td>170.000000</td>\n",
              "      <td>25.000000</td>\n",
              "      <td>3.000000</td>\n",
              "    </tr>\n",
              "    <tr>\n",
              "      <th>75%</th>\n",
              "      <td>28.000000</td>\n",
              "      <td>26.000000</td>\n",
              "      <td>9.000000</td>\n",
              "      <td>5.000000</td>\n",
              "      <td>4.000000</td>\n",
              "      <td>260.000000</td>\n",
              "      <td>50.000000</td>\n",
              "      <td>16.000000</td>\n",
              "      <td>40.000000</td>\n",
              "      <td>294.217000</td>\n",
              "      <td>97.000000</td>\n",
              "      <td>0.000000</td>\n",
              "      <td>1.000000</td>\n",
              "      <td>2.000000</td>\n",
              "      <td>1.000000</td>\n",
              "      <td>0.000000</td>\n",
              "      <td>1.000000</td>\n",
              "      <td>89.000000</td>\n",
              "      <td>172.000000</td>\n",
              "      <td>31.000000</td>\n",
              "      <td>8.000000</td>\n",
              "    </tr>\n",
              "    <tr>\n",
              "      <th>max</th>\n",
              "      <td>36.000000</td>\n",
              "      <td>28.000000</td>\n",
              "      <td>12.000000</td>\n",
              "      <td>6.000000</td>\n",
              "      <td>4.000000</td>\n",
              "      <td>388.000000</td>\n",
              "      <td>52.000000</td>\n",
              "      <td>29.000000</td>\n",
              "      <td>58.000000</td>\n",
              "      <td>378.884000</td>\n",
              "      <td>100.000000</td>\n",
              "      <td>1.000000</td>\n",
              "      <td>4.000000</td>\n",
              "      <td>4.000000</td>\n",
              "      <td>1.000000</td>\n",
              "      <td>1.000000</td>\n",
              "      <td>8.000000</td>\n",
              "      <td>108.000000</td>\n",
              "      <td>196.000000</td>\n",
              "      <td>38.000000</td>\n",
              "      <td>120.000000</td>\n",
              "    </tr>\n",
              "  </tbody>\n",
              "</table>\n",
              "</div>"
            ],
            "text/plain": [
              "               ID  ...  Absenteeism time in hours\n",
              "count  740.000000  ...                 740.000000\n",
              "mean    18.017568  ...                   6.924324\n",
              "std     11.021247  ...                  13.330998\n",
              "min      1.000000  ...                   0.000000\n",
              "25%      9.000000  ...                   2.000000\n",
              "50%     18.000000  ...                   3.000000\n",
              "75%     28.000000  ...                   8.000000\n",
              "max     36.000000  ...                 120.000000\n",
              "\n",
              "[8 rows x 21 columns]"
            ]
          },
          "metadata": {
            "tags": []
          },
          "execution_count": 9
        }
      ]
    },
    {
      "cell_type": "markdown",
      "metadata": {
        "id": "eKvjL0Vy_KFm",
        "colab_type": "text"
      },
      "source": [
        "### I want to look at how age affects absenteeism using a bar chart"
      ]
    },
    {
      "cell_type": "code",
      "metadata": {
        "id": "ASkhqfOsVkql",
        "colab_type": "code",
        "colab": {
          "base_uri": "https://localhost:8080/",
          "height": 297
        },
        "outputId": "a44ad6dd-2aeb-49a5-aeec-837744b68c25"
      },
      "source": [
        "# To get data visualisations\n",
        "\n",
        "# Count of absenteeism by age\n",
        "\n",
        "age_count = absent.groupby(['Age']).agg({'Absenteeism time in hours': pd.Series.nunique})\n",
        "ax = age_count.plot(kind='bar', figsize=(8,4), legend=False)\n",
        "for i, v in enumerate(age_count.values):\n",
        "    ax.text(i-.25, v +0.2, str(v[0]), color='red')\n",
        "ax.set_xlabel('Age')\n",
        "ax.set_ylabel('hours')\n",
        "ax.set_title('absenteeism by age')\n",
        "plt.show()"
      ],
      "execution_count": 10,
      "outputs": [
        {
          "output_type": "display_data",
          "data": {
            "image/png": "[encoded data removed]",
            "text/plain": [
              "<Figure size 576x288 with 1 Axes>"
            ]
          },
          "metadata": {
            "tags": [],
            "needs_background": "light"
          }
        }
      ]
    },
    {
      "cell_type": "markdown",
      "metadata": {
        "id": "rtZRaJuX_CkN",
        "colab_type": "text"
      },
      "source": [
        "### It seems that age plays a significant role on absenteeism. Lets explore the causes"
      ]
    },
    {
      "cell_type": "code",
      "metadata": {
        "id": "lGcqkOUX41jr",
        "colab_type": "code",
        "colab": {
          "base_uri": "https://localhost:8080/",
          "height": 440
        },
        "outputId": "87328b21-2e91-4f4d-b5f0-d6a2cb146ce3"
      },
      "source": [
        "# Seasons & days of the week absences by age\n",
        "\n",
        "ax = absent.groupby('Age')['Seasons', 'Day of the week'].sum().plot(figsize=(8,6))\n",
        "ax.set_ylabel('Count')\n",
        "ax.set_title('Absences for seasons & day of the week per age')\n",
        "plt.show()"
      ],
      "execution_count": 11,
      "outputs": [
        {
          "output_type": "stream",
          "text": [
            "/usr/local/lib/python3.6/dist-packages/ipykernel_launcher.py:2: FutureWarning: Indexing with multiple keys (implicitly converted to a tuple of keys) will be deprecated, use a list instead.\n",
            "  \n"
          ],
          "name": "stderr"
        },
        {
          "output_type": "display_data",
          "data": {
            "image/png": "[encoded data removed]",
            "text/plain": [
              "<Figure size 576x432 with 1 Axes>"
            ]
          },
          "metadata": {
            "tags": [],
            "needs_background": "light"
          }
        }
      ]
    },
    {
      "cell_type": "markdown",
      "metadata": {
        "id": "6rlbfdg_5pLM",
        "colab_type": "text"
      },
      "source": [
        "### The distribution for absences per seasons and day of week is highest for age 36 to 38. "
      ]
    },
    {
      "cell_type": "code",
      "metadata": {
        "id": "3MfmYN4kQOH2",
        "colab_type": "code",
        "outputId": "cf87a312-cabd-45be-be01-d30e7c2f7dde",
        "colab": {
          "base_uri": "https://localhost:8080/",
          "height": 532
        }
      },
      "source": [
        "# To get the count of the reasons for absence\n",
        "\n",
        "absent['Reason for absence'].value_counts()"
      ],
      "execution_count": 12,
      "outputs": [
        {
          "output_type": "execute_result",
          "data": {
            "text/plain": [
              "23    149\n",
              "28    112\n",
              "27     69\n",
              "13     55\n",
              "0      43\n",
              "19     40\n",
              "22     38\n",
              "26     33\n",
              "25     31\n",
              "11     26\n",
              "10     25\n",
              "18     21\n",
              "14     19\n",
              "1      16\n",
              "7      15\n",
              "6       8\n",
              "12      8\n",
              "8       6\n",
              "21      6\n",
              "9       4\n",
              "5       3\n",
              "24      3\n",
              "16      3\n",
              "4       2\n",
              "15      2\n",
              "3       1\n",
              "2       1\n",
              "17      1\n",
              "Name: Reason for absence, dtype: int64"
            ]
          },
          "metadata": {
            "tags": []
          },
          "execution_count": 12
        }
      ]
    },
    {
      "cell_type": "code",
      "metadata": {
        "id": "atKsxH6wRm5l",
        "colab_type": "code",
        "outputId": "29bcd556-778a-4ad9-d76e-5595e58bae32",
        "colab": {
          "base_uri": "https://localhost:8080/",
          "height": 294
        }
      },
      "source": [
        "# To line plot reasons for absence\n",
        "\n",
        "absent['Reason for absence'].value_counts().sort_index().plot();\n",
        "\n",
        "plt.xlabel('Reason for absence')\n",
        "plt.ylabel('hours of absenteeism')\n",
        "plt.title('Reason for absence')\n",
        "plt.legend()\n",
        "plt.show()\n"
      ],
      "execution_count": 13,
      "outputs": [
        {
          "output_type": "display_data",
          "data": {
            "image/png": "[encoded data removed]",
            "text/plain": [
              "<Figure size 432x288 with 1 Axes>"
            ]
          },
          "metadata": {
            "tags": [],
            "needs_background": "light"
          }
        }
      ]
    },
    {
      "cell_type": "markdown",
      "metadata": {
        "id": "ZFh-SdKcGlo-",
        "colab_type": "text"
      },
      "source": [
        "From the reasons listed below, medical consultations, dental appointments, and physiotherapy are the top three reasons for absences."
      ]
    },
    {
      "cell_type": "markdown",
      "metadata": {
        "id": "k9TfTRIHFvUI",
        "colab_type": "text"
      },
      "source": [
        "\n",
        "\n",
        "### **Reasons for absenteeism:**\n",
        "\n",
        "1. Individual identification (ID) \n",
        "2. Reason for absence (ICD). \n",
        "Absences attested by the International Code of Diseases (ICD) stratified into 21 categories (I to XXI) as follows: \n",
        "\n",
        "I Certain infectious and parasitic diseases \n",
        "\n",
        "II Neoplasms \n",
        "\n",
        "III Diseases of the blood and blood-forming organs and certain disorders \n",
        "involving the immune mechanism \n",
        "\n",
        "IV Endocrine, nutritional and metabolic diseases \n",
        "\n",
        "V Mental and behavioural disorders \n",
        "\n",
        "VI Diseases of the nervous system \n",
        "\n",
        "VII Diseases of the eye and adnexa \n",
        "\n",
        "VIII Diseases of the ear and mastoid process \n",
        "\n",
        "IX Diseases of the circulatory system\n",
        "\n",
        "X Diseases of the respiratory system\n",
        "\n",
        "XI Diseases of the digestive system \n",
        "\n",
        "XII Diseases of the skin and subcutaneous tissue \n",
        "\n",
        "XIII Diseases of the musculoskeletal system and connective tissue \n",
        "\n",
        "XIV Diseases of the genitourinary system \n",
        "\n",
        "XV Pregnancy, childbirth and the puerperium \n",
        "\n",
        "XVI Certain conditions originating in the perinatal period \n",
        "\n",
        "XVII Congenital malformations, deformations and chromosomal abnormalities \n",
        "\n",
        "XVIII Symptoms, signs and abnormal clinical and laboratory findings, not elsewhere classified \n",
        "\n",
        "XIX Injury, poisoning and certain other consequences of external causes\n",
        "\n",
        "XX External causes of morbidity and mortality \n",
        "\n",
        "XXI Factors influencing health status and contact with health services. \n",
        "\n",
        "And 7 categories without (CID) patient follow-up (22), medical consultation (23), blood donation (24), laboratory examination (25), unjustified absence (26), physiotherapy (27), dental consultation (28). \n",
        "3. Month of absence \n",
        "4. Day of the week (Monday (2), Tuesday (3), Wednesday (4), Thursday (5), Friday (6)) \n",
        "5. Seasons (summer (1), autumn (2), winter (3), spring (4)) \n",
        "6. Transportation expense \n",
        "7. Distance from Residence to Work (kilometers) \n",
        "8. Service time \n",
        "9. Age \n",
        "10. Work load Average/day \n",
        "11. Hit target \n",
        "12. Disciplinary failure (yes=1; no=0) \n",
        "13. Education (high school (1), graduate (2), postgraduate (3), master and doctor (4)) \n",
        "14. Son (number of children) \n",
        "15. Social drinker (yes=1; no=0) \n",
        "16. Social smoker (yes=1; no=0) \n",
        "17. Pet (number of pet) \n",
        "18. Weight \n",
        "19. Height \n",
        "20. Body mass index \n",
        "21. Absenteeism time in hours (target) "
      ]
    },
    {
      "cell_type": "code",
      "metadata": {
        "id": "JHCNfTkESCVq",
        "colab_type": "code",
        "colab": {
          "base_uri": "https://localhost:8080/",
          "height": 294
        },
        "outputId": "0b213605-4498-43d1-f370-0b7152212796"
      },
      "source": [
        "# To see hours of absenteeism per month\n",
        "\n",
        "absent['Month of absence'].hist(bins=13); \n",
        "\n",
        "plt.xlabel('months')\n",
        "plt.ylabel('hours of absenteeism')\n",
        "plt.title('Absence per month')\n",
        "plt.show()"
      ],
      "execution_count": 14,
      "outputs": [
        {
          "output_type": "display_data",
          "data": {
            "image/png": "[encoded data removed]",
            "text/plain": [
              "<Figure size 432x288 with 1 Axes>"
            ]
          },
          "metadata": {
            "tags": [],
            "needs_background": "light"
          }
        }
      ]
    },
    {
      "cell_type": "markdown",
      "metadata": {
        "id": "-WXaRcAeUqyG",
        "colab_type": "text"
      },
      "source": [
        "### The data reveals absenteeism is highest March. It's also high in february and then picks up again in July, October. Lowest in January."
      ]
    },
    {
      "cell_type": "code",
      "metadata": {
        "id": "-rnE8MAp9msk",
        "colab_type": "code",
        "colab": {
          "base_uri": "https://localhost:8080/",
          "height": 440
        },
        "outputId": "5f5853bd-0d48-4547-a793-5e5d1a28ee5b"
      },
      "source": [
        "# To plot for employees with children and pets\n",
        "\n",
        "ax = absent.groupby('Age')['Son', 'Pet','Social smoker', 'Social drinker'].sum().plot(figsize=(8,6))\n",
        "ax.set_ylabel('Count')\n",
        "ax.set_title('Count of Pet, Son & Social life by Age')\n",
        "plt.show()"
      ],
      "execution_count": 15,
      "outputs": [
        {
          "output_type": "stream",
          "text": [
            "/usr/local/lib/python3.6/dist-packages/ipykernel_launcher.py:2: FutureWarning: Indexing with multiple keys (implicitly converted to a tuple of keys) will be deprecated, use a list instead.\n",
            "  \n"
          ],
          "name": "stderr"
        },
        {
          "output_type": "display_data",
          "data": {
            "image/png": "[encoded data removed]",
            "text/plain": [
              "<Figure size 576x432 with 1 Axes>"
            ]
          },
          "metadata": {
            "tags": [],
            "needs_background": "light"
          }
        }
      ]
    },
    {
      "cell_type": "markdown",
      "metadata": {
        "id": "4Utt4ji5_jeQ",
        "colab_type": "text"
      },
      "source": [
        "### The age group with the highest number of employees with son is around 36 to 37. The age group with the highest pet owners is about 28. This seems to lend to my assertion that people around the age group of late 20's, mid 30's to 40's may have a high rate of absenteeism because of family commitments. Social drinkers peaked at about age 38. There's not a high rate of social smokers at any age."
      ]
    }
  ]
}